{
 "cells": [
  {
   "cell_type": "code",
   "execution_count": 1,
   "metadata": {},
   "outputs": [],
   "source": [
    "%matplotlib inline\n",
    "from matplotlib import style\n",
    "style.use('fivethirtyeight')\n",
    "import matplotlib.pyplot as plt"
   ]
  },
  {
   "cell_type": "code",
   "execution_count": 2,
   "metadata": {},
   "outputs": [],
   "source": [
    "import numpy as np\n",
    "import pandas as pd"
   ]
  },
  {
   "cell_type": "code",
   "execution_count": 3,
   "metadata": {},
   "outputs": [],
   "source": [
    "import datetime as dt"
   ]
  },
  {
   "cell_type": "markdown",
   "metadata": {},
   "source": [
    "# Reflect Tables into SQLAlchemy ORM"
   ]
  },
  {
   "cell_type": "code",
   "execution_count": 4,
   "metadata": {},
   "outputs": [],
   "source": [
    "# Python SQL toolkit and Object Relational Mapper\n",
    "import sqlalchemy\n",
    "from sqlalchemy.ext.automap import automap_base\n",
    "from sqlalchemy.orm import Session\n",
    "from sqlalchemy import create_engine, func\n",
    "from sqlalchemy import extract "
   ]
  },
  {
   "cell_type": "code",
   "execution_count": 5,
   "metadata": {},
   "outputs": [],
   "source": [
    "engine = create_engine(\"sqlite:///hawaii.sqlite\")"
   ]
  },
  {
   "cell_type": "code",
   "execution_count": 6,
   "metadata": {},
   "outputs": [],
   "source": [
    "# reflect an existing database into a new model\n",
    "Base = automap_base()\n",
    "\n",
    "# reflect the tables\n",
    "Base.prepare(engine, reflect=True)"
   ]
  },
  {
   "cell_type": "code",
   "execution_count": 7,
   "metadata": {},
   "outputs": [
    {
     "data": {
      "text/plain": [
       "['measurement', 'station']"
      ]
     },
     "execution_count": 7,
     "metadata": {},
     "output_type": "execute_result"
    }
   ],
   "source": [
    "# We can view all of the classes that automap found\n",
    "Base.classes.keys()"
   ]
  },
  {
   "cell_type": "code",
   "execution_count": 8,
   "metadata": {},
   "outputs": [],
   "source": [
    "# Save references to each table\n",
    "Measurement = Base.classes.measurement\n",
    "Station = Base.classes.station"
   ]
  },
  {
   "cell_type": "code",
   "execution_count": 9,
   "metadata": {},
   "outputs": [],
   "source": [
    "# Create our session (link) from Python to the DB\n",
    "session = Session(engine)"
   ]
  },
  {
   "cell_type": "markdown",
   "metadata": {},
   "source": [
    "# Exploratory Climate Analysis"
   ]
  },
  {
   "cell_type": "code",
   "execution_count": 10,
   "metadata": {},
   "outputs": [
    {
     "data": {
      "text/plain": [
       "(array([-500.,    0.,  500., 1000., 1500., 2000., 2500.]),\n",
       " <a list of 7 Text xticklabel objects>)"
      ]
     },
     "execution_count": 10,
     "metadata": {},
     "output_type": "execute_result"
    },
    {
     "data": {
      "image/png": "[encoded data removed]",
      "text/plain": [
       "<Figure size 432x288 with 1 Axes>"
      ]
     },
     "metadata": {},
     "output_type": "display_data"
    }
   ],
   "source": [
    "# Design a query to retrieve the last 12 months of precipitation data and plot the results. \n",
    "#Starting from the last data point in the database. \n",
    "\n",
    "\n",
    "# Calculate the date one year from the last date in data set.\n",
    "prev_year = dt.date(2017, 8, 23) - dt.timedelta(days=365)\n",
    "\n",
    "# Perform a query to retrieve the data and precipitation scores\n",
    "results = []\n",
    "results = session.query(Measurement.date, Measurement.prcp).filter(Measurement.date >= prev_year).all()\n",
    "\n",
    "\n",
    "# Save the query results as a Pandas DataFrame and set the index to the date column\n",
    "df = pd.DataFrame(results, columns=['date','precipitation'])\n",
    "df.set_index(df['date'], inplace=True)\n",
    "\n",
    "# Sort the dataframe by date\n",
    "df = df.sort_index()\n",
    "\n",
    "# Use Pandas Plotting with Matplotlib to plot the data\n",
    "df.plot()\n",
    "plt.xticks(rotation='vertical')"
   ]
  },
  {
   "cell_type": "code",
   "execution_count": 11,
   "metadata": {},
   "outputs": [
    {
     "data": {
      "text/html": [
       "<div>\n",
       "<style scoped>\n",
       "    .dataframe tbody tr th:only-of-type {\n",
       "        vertical-align: middle;\n",
       "    }\n",
       "\n",
       "    .dataframe tbody tr th {\n",
       "        vertical-align: top;\n",
       "    }\n",
       "\n",
       "    .dataframe thead th {\n",
       "        text-align: right;\n",
       "    }\n",
       "</style>\n",
       "<table border=\"1\" class=\"dataframe\">\n",
       "  <thead>\n",
       "    <tr style=\"text-align: right;\">\n",
       "      <th></th>\n",
       "      <th>precipitation</th>\n",
       "    </tr>\n",
       "  </thead>\n",
       "  <tbody>\n",
       "    <tr>\n",
       "      <th>count</th>\n",
       "      <td>2021.000000</td>\n",
       "    </tr>\n",
       "    <tr>\n",
       "      <th>mean</th>\n",
       "      <td>0.177279</td>\n",
       "    </tr>\n",
       "    <tr>\n",
       "      <th>std</th>\n",
       "      <td>0.461190</td>\n",
       "    </tr>\n",
       "    <tr>\n",
       "      <th>min</th>\n",
       "      <td>0.000000</td>\n",
       "    </tr>\n",
       "    <tr>\n",
       "      <th>25%</th>\n",
       "      <td>0.000000</td>\n",
       "    </tr>\n",
       "    <tr>\n",
       "      <th>50%</th>\n",
       "      <td>0.020000</td>\n",
       "    </tr>\n",
       "    <tr>\n",
       "      <th>75%</th>\n",
       "      <td>0.130000</td>\n",
       "    </tr>\n",
       "    <tr>\n",
       "      <th>max</th>\n",
       "      <td>6.700000</td>\n",
       "    </tr>\n",
       "  </tbody>\n",
       "</table>\n",
       "</div>"
      ],
      "text/plain": [
       "       precipitation\n",
       "count    2021.000000\n",
       "mean        0.177279\n",
       "std         0.461190\n",
       "min         0.000000\n",
       "25%         0.000000\n",
       "50%         0.020000\n",
       "75%         0.130000\n",
       "max         6.700000"
      ]
     },
     "execution_count": 11,
     "metadata": {},
     "output_type": "execute_result"
    }
   ],
   "source": [
    "# Use Pandas to calculate the summary statistics for the precipitation data\n",
    "df.describe()"
   ]
  },
  {
   "cell_type": "code",
   "execution_count": 12,
   "metadata": {},
   "outputs": [
    {
     "data": {
      "text/plain": [
       "[(9)]"
      ]
     },
     "execution_count": 12,
     "metadata": {},
     "output_type": "execute_result"
    }
   ],
   "source": [
    "# How many stations are available in this dataset?\n",
    "session.query(func.count(Station.station)).all()"
   ]
  },
  {
   "cell_type": "code",
   "execution_count": 13,
   "metadata": {},
   "outputs": [
    {
     "data": {
      "text/plain": [
       "[('USC00519281', 2772),\n",
       " ('USC00519397', 2724),\n",
       " ('USC00513117', 2709),\n",
       " ('USC00519523', 2669),\n",
       " ('USC00516128', 2612),\n",
       " ('USC00514830', 2202),\n",
       " ('USC00511918', 1979),\n",
       " ('USC00517948', 1372),\n",
       " ('USC00518838', 511)]"
      ]
     },
     "execution_count": 13,
     "metadata": {},
     "output_type": "execute_result"
    }
   ],
   "source": [
    "# What are the most active stations?\n",
    "session.query(Measurement.station, func.count(Measurement.station)).all()\n",
    "# List the stations and the counts in descending order.\n",
    "session.query(Measurement.station, func.count(Measurement.station)).\\\n",
    "group_by(Measurement.station).order_by(func.count(Measurement.station).desc()).all()"
   ]
  },
  {
   "cell_type": "code",
   "execution_count": 14,
   "metadata": {},
   "outputs": [
    {
     "data": {
      "text/plain": [
       "[(54.0, 85.0, 71.66378066378067)]"
      ]
     },
     "execution_count": 14,
     "metadata": {},
     "output_type": "execute_result"
    }
   ],
   "source": [
    "# Using the station id from the previous query, calculate the lowest temperature recorded, \n",
    "# highest temperature recorded, and average temperature most active station 'USC00519281'?\n",
    "session.query(func.min(Measurement.tobs), func.max(Measurement.tobs), func.avg(Measurement.tobs)).\\\n",
    "filter(Measurement.station == 'USC00519281').all()"
   ]
  },
  {
   "cell_type": "code",
   "execution_count": 15,
   "metadata": {},
   "outputs": [
    {
     "data": {
      "image/png": "[encoded data removed]",
      "text/plain": [
       "<Figure size 432x288 with 1 Axes>"
      ]
     },
     "metadata": {},
     "output_type": "display_data"
    }
   ],
   "source": [
    "# Choose the station with the highest number of temperature observations.\n",
    "# Query the last 12 months of temperature observation data for this station and plot the results as a histogram\n",
    "results = session.query(Measurement.tobs).\\\n",
    "    filter(Measurement.station == 'USC00519281').\\\n",
    "    filter(Measurement.date >= prev_year).all()\n",
    "df = pd.DataFrame(results, columns=['tobs'])\n",
    "\n",
    "df.plot.hist(bins=12)\n",
    "plt.tight_layout()"
   ]
  },
  {
   "cell_type": "code",
   "execution_count": 16,
   "metadata": {},
   "outputs": [
    {
     "data": {
      "image/png": "[encoded data removed]",
      "text/plain": [
       "<Figure size 432x288 with 1 Axes>"
      ]
     },
     "metadata": {},
     "output_type": "display_data"
    }
   ],
   "source": [
    "# skill drill - 5 bins\n",
    "df.plot.hist(bins=5)\n",
    "plt.tight_layout()"
   ]
  },
  {
   "cell_type": "code",
   "execution_count": 17,
   "metadata": {},
   "outputs": [
    {
     "data": {
      "image/png": "[encoded data removed]",
      "text/plain": [
       "<Figure size 432x288 with 1 Axes>"
      ]
     },
     "metadata": {},
     "output_type": "display_data"
    }
   ],
   "source": [
    "# skill drill - 20 bins\n",
    "df.plot.hist(bins=20)\n",
    "plt.tight_layout()"
   ]
  },
  {
   "cell_type": "code",
   "execution_count": 65,
   "metadata": {},
   "outputs": [
    {
     "data": {
      "text/plain": [
       "[66.0, 74.99014778325123, 81.0]"
      ]
     },
     "execution_count": 65,
     "metadata": {},
     "output_type": "execute_result"
    }
   ],
   "source": [
    "# Write a function called `calc_temps` that will accept start date and end date in the format '%Y-%m-%d' \n",
    "# and return the minimum, average, and maximum temperatures for that range of dates\n",
    "def calc_temps(start=None, end=None):\n",
    "    sel = [func.min(Measurement.tobs), func.avg(\n",
    "             Measurement.tobs), func.max(Measurement.tobs)]\n",
    "    if not end:\n",
    "        results = session.query(*sel).\\\n",
    "                   filter(Measurement.date >= start).\\\n",
    "                   filter(Measurement.date <= end).all()\n",
    "        temps = list(np.ravel(results))\n",
    "        return temps\n",
    "\n",
    "    results = session.query(*sel).\\\n",
    "      filter(Measurement.date >= start).\\\n",
    "      filter(Measurement.date <= end).all()\n",
    "    temps = list(np.ravel(results))\n",
    "    return temps\n",
    "\n",
    "calc_temps(\"2015-06-01\",\"2015-06-30\")\n"
   ]
  },
  {
   "cell_type": "markdown",
   "metadata": {},
   "source": [
    "# Challenge"
   ]
  },
  {
   "cell_type": "code",
   "execution_count": 99,
   "metadata": {},
   "outputs": [],
   "source": [
    "### getting weather (temperature and precipitation) key statistics for the months of June and December across all stations"
   ]
  },
  {
   "cell_type": "code",
   "execution_count": 105,
   "metadata": {},
   "outputs": [
    {
     "name": "stdout",
     "output_type": "stream",
     "text": [
      "[('2010-01-01',)]\n",
      "[('2017-08-23',)]\n"
     ]
    }
   ],
   "source": [
    "# for information, get the date range of the data\n",
    "date_min = session.query(func.min(Measurement.date)).all()\n",
    "date_max = session.query(func.max(Measurement.date)).all()\n",
    "print(date_min)\n",
    "print(date_max)"
   ]
  },
  {
   "cell_type": "code",
   "execution_count": 100,
   "metadata": {},
   "outputs": [
    {
     "data": {
      "text/html": [
       "<div>\n",
       "<style scoped>\n",
       "    .dataframe tbody tr th:only-of-type {\n",
       "        vertical-align: middle;\n",
       "    }\n",
       "\n",
       "    .dataframe tbody tr th {\n",
       "        vertical-align: top;\n",
       "    }\n",
       "\n",
       "    .dataframe thead th {\n",
       "        text-align: right;\n",
       "    }\n",
       "</style>\n",
       "<table border=\"1\" class=\"dataframe\">\n",
       "  <thead>\n",
       "    <tr style=\"text-align: right;\">\n",
       "      <th></th>\n",
       "      <th>tobs</th>\n",
       "    </tr>\n",
       "  </thead>\n",
       "  <tbody>\n",
       "    <tr>\n",
       "      <th>count</th>\n",
       "      <td>1700.000000</td>\n",
       "    </tr>\n",
       "    <tr>\n",
       "      <th>mean</th>\n",
       "      <td>74.944118</td>\n",
       "    </tr>\n",
       "    <tr>\n",
       "      <th>std</th>\n",
       "      <td>3.257417</td>\n",
       "    </tr>\n",
       "    <tr>\n",
       "      <th>min</th>\n",
       "      <td>64.000000</td>\n",
       "    </tr>\n",
       "    <tr>\n",
       "      <th>25%</th>\n",
       "      <td>73.000000</td>\n",
       "    </tr>\n",
       "    <tr>\n",
       "      <th>50%</th>\n",
       "      <td>75.000000</td>\n",
       "    </tr>\n",
       "    <tr>\n",
       "      <th>75%</th>\n",
       "      <td>77.000000</td>\n",
       "    </tr>\n",
       "    <tr>\n",
       "      <th>max</th>\n",
       "      <td>85.000000</td>\n",
       "    </tr>\n",
       "  </tbody>\n",
       "</table>\n",
       "</div>"
      ],
      "text/plain": [
       "              tobs\n",
       "count  1700.000000\n",
       "mean     74.944118\n",
       "std       3.257417\n",
       "min      64.000000\n",
       "25%      73.000000\n",
       "50%      75.000000\n",
       "75%      77.000000\n",
       "max      85.000000"
      ]
     },
     "execution_count": 100,
     "metadata": {},
     "output_type": "execute_result"
    }
   ],
   "source": [
    "# temperature key statistics for June\n",
    "# using the \"extract\" method from sqlalchemy - \"from sqlalchemy import extract\" added with dependencies\n",
    "tobs_june = session.query(Measurement.date, Measurement.tobs).filter(extract('month',Measurement.date)==6).all()\n",
    "tobs_june_df=pd.DataFrame(tobs_june)\n",
    "tobs_june_df.describe()"
   ]
  },
  {
   "cell_type": "code",
   "execution_count": 101,
   "metadata": {},
   "outputs": [
    {
     "data": {
      "text/html": [
       "<div>\n",
       "<style scoped>\n",
       "    .dataframe tbody tr th:only-of-type {\n",
       "        vertical-align: middle;\n",
       "    }\n",
       "\n",
       "    .dataframe tbody tr th {\n",
       "        vertical-align: top;\n",
       "    }\n",
       "\n",
       "    .dataframe thead th {\n",
       "        text-align: right;\n",
       "    }\n",
       "</style>\n",
       "<table border=\"1\" class=\"dataframe\">\n",
       "  <thead>\n",
       "    <tr style=\"text-align: right;\">\n",
       "      <th></th>\n",
       "      <th>tobs</th>\n",
       "    </tr>\n",
       "  </thead>\n",
       "  <tbody>\n",
       "    <tr>\n",
       "      <th>count</th>\n",
       "      <td>1517.000000</td>\n",
       "    </tr>\n",
       "    <tr>\n",
       "      <th>mean</th>\n",
       "      <td>71.041529</td>\n",
       "    </tr>\n",
       "    <tr>\n",
       "      <th>std</th>\n",
       "      <td>3.745920</td>\n",
       "    </tr>\n",
       "    <tr>\n",
       "      <th>min</th>\n",
       "      <td>56.000000</td>\n",
       "    </tr>\n",
       "    <tr>\n",
       "      <th>25%</th>\n",
       "      <td>69.000000</td>\n",
       "    </tr>\n",
       "    <tr>\n",
       "      <th>50%</th>\n",
       "      <td>71.000000</td>\n",
       "    </tr>\n",
       "    <tr>\n",
       "      <th>75%</th>\n",
       "      <td>74.000000</td>\n",
       "    </tr>\n",
       "    <tr>\n",
       "      <th>max</th>\n",
       "      <td>83.000000</td>\n",
       "    </tr>\n",
       "  </tbody>\n",
       "</table>\n",
       "</div>"
      ],
      "text/plain": [
       "              tobs\n",
       "count  1517.000000\n",
       "mean     71.041529\n",
       "std       3.745920\n",
       "min      56.000000\n",
       "25%      69.000000\n",
       "50%      71.000000\n",
       "75%      74.000000\n",
       "max      83.000000"
      ]
     },
     "execution_count": 101,
     "metadata": {},
     "output_type": "execute_result"
    }
   ],
   "source": [
    "# temperature key statistics for December\n",
    "tobs_dec = session.query(Measurement.date, Measurement.tobs).filter(extract('month',Measurement.date)==12).all()\n",
    "tobs_dec_df=pd.DataFrame(tobs_dec)\n",
    "tobs_dec_df.describe()"
   ]
  },
  {
   "cell_type": "code",
   "execution_count": 102,
   "metadata": {},
   "outputs": [
    {
     "data": {
      "image/png": "[encoded data removed]",
      "text/plain": [
       "<Figure size 432x288 with 1 Axes>"
      ]
     },
     "metadata": {},
     "output_type": "display_data"
    }
   ],
   "source": [
    "# create a temperature box-and-whisker of each month\n",
    "column_names = [\"june\", \"december\"]\n",
    "tobs_df=pd.DataFrame(columns=column_names)\n",
    "tobs_df[\"june\"]= tobs_june_df[\"tobs\"]\n",
    "tobs_df[\"december\"]=tobs_dec_df[\"tobs\"]\n",
    "\n",
    "tobs_df.boxplot(column=[\"june\", \"december\"])\n",
    "plt.tight_layout()"
   ]
  },
  {
   "cell_type": "code",
   "execution_count": 106,
   "metadata": {},
   "outputs": [],
   "source": [
    "## steady temperature, as expected with few outliers (which may happen at nighttime)"
   ]
  },
  {
   "cell_type": "code",
   "execution_count": 107,
   "metadata": {},
   "outputs": [
    {
     "data": {
      "text/html": [
       "<div>\n",
       "<style scoped>\n",
       "    .dataframe tbody tr th:only-of-type {\n",
       "        vertical-align: middle;\n",
       "    }\n",
       "\n",
       "    .dataframe tbody tr th {\n",
       "        vertical-align: top;\n",
       "    }\n",
       "\n",
       "    .dataframe thead th {\n",
       "        text-align: right;\n",
       "    }\n",
       "</style>\n",
       "<table border=\"1\" class=\"dataframe\">\n",
       "  <thead>\n",
       "    <tr style=\"text-align: right;\">\n",
       "      <th></th>\n",
       "      <th>prcp</th>\n",
       "    </tr>\n",
       "  </thead>\n",
       "  <tbody>\n",
       "    <tr>\n",
       "      <th>count</th>\n",
       "      <td>1574.000000</td>\n",
       "    </tr>\n",
       "    <tr>\n",
       "      <th>mean</th>\n",
       "      <td>0.136360</td>\n",
       "    </tr>\n",
       "    <tr>\n",
       "      <th>std</th>\n",
       "      <td>0.335731</td>\n",
       "    </tr>\n",
       "    <tr>\n",
       "      <th>min</th>\n",
       "      <td>0.000000</td>\n",
       "    </tr>\n",
       "    <tr>\n",
       "      <th>25%</th>\n",
       "      <td>0.000000</td>\n",
       "    </tr>\n",
       "    <tr>\n",
       "      <th>50%</th>\n",
       "      <td>0.020000</td>\n",
       "    </tr>\n",
       "    <tr>\n",
       "      <th>75%</th>\n",
       "      <td>0.120000</td>\n",
       "    </tr>\n",
       "    <tr>\n",
       "      <th>max</th>\n",
       "      <td>4.430000</td>\n",
       "    </tr>\n",
       "  </tbody>\n",
       "</table>\n",
       "</div>"
      ],
      "text/plain": [
       "              prcp\n",
       "count  1574.000000\n",
       "mean      0.136360\n",
       "std       0.335731\n",
       "min       0.000000\n",
       "25%       0.000000\n",
       "50%       0.020000\n",
       "75%       0.120000\n",
       "max       4.430000"
      ]
     },
     "execution_count": 107,
     "metadata": {},
     "output_type": "execute_result"
    }
   ],
   "source": [
    "# precipitation key statistics for June\n",
    "prcp_june = session.query(Measurement.date, Measurement.prcp).filter(extract('month',Measurement.date)==6).all()\n",
    "prcp_june_df=pd.DataFrame(prcp_june)\n",
    "prcp_june_df.describe()"
   ]
  },
  {
   "cell_type": "code",
   "execution_count": 108,
   "metadata": {},
   "outputs": [
    {
     "data": {
      "text/html": [
       "<div>\n",
       "<style scoped>\n",
       "    .dataframe tbody tr th:only-of-type {\n",
       "        vertical-align: middle;\n",
       "    }\n",
       "\n",
       "    .dataframe tbody tr th {\n",
       "        vertical-align: top;\n",
       "    }\n",
       "\n",
       "    .dataframe thead th {\n",
       "        text-align: right;\n",
       "    }\n",
       "</style>\n",
       "<table border=\"1\" class=\"dataframe\">\n",
       "  <thead>\n",
       "    <tr style=\"text-align: right;\">\n",
       "      <th></th>\n",
       "      <th>prcp</th>\n",
       "    </tr>\n",
       "  </thead>\n",
       "  <tbody>\n",
       "    <tr>\n",
       "      <th>count</th>\n",
       "      <td>1405.000000</td>\n",
       "    </tr>\n",
       "    <tr>\n",
       "      <th>mean</th>\n",
       "      <td>0.216819</td>\n",
       "    </tr>\n",
       "    <tr>\n",
       "      <th>std</th>\n",
       "      <td>0.541399</td>\n",
       "    </tr>\n",
       "    <tr>\n",
       "      <th>min</th>\n",
       "      <td>0.000000</td>\n",
       "    </tr>\n",
       "    <tr>\n",
       "      <th>25%</th>\n",
       "      <td>0.000000</td>\n",
       "    </tr>\n",
       "    <tr>\n",
       "      <th>50%</th>\n",
       "      <td>0.030000</td>\n",
       "    </tr>\n",
       "    <tr>\n",
       "      <th>75%</th>\n",
       "      <td>0.150000</td>\n",
       "    </tr>\n",
       "    <tr>\n",
       "      <th>max</th>\n",
       "      <td>6.420000</td>\n",
       "    </tr>\n",
       "  </tbody>\n",
       "</table>\n",
       "</div>"
      ],
      "text/plain": [
       "              prcp\n",
       "count  1405.000000\n",
       "mean      0.216819\n",
       "std       0.541399\n",
       "min       0.000000\n",
       "25%       0.000000\n",
       "50%       0.030000\n",
       "75%       0.150000\n",
       "max       6.420000"
      ]
     },
     "execution_count": 108,
     "metadata": {},
     "output_type": "execute_result"
    }
   ],
   "source": [
    "# precipitation key statistics for December\n",
    "prcp_dec = session.query(Measurement.date, Measurement.prcp).filter(extract('month',Measurement.date)==12).all()\n",
    "prcp_dec_df=pd.DataFrame(prcp_dec)\n",
    "prcp_dec_df.describe()"
   ]
  },
  {
   "cell_type": "code",
   "execution_count": 109,
   "metadata": {},
   "outputs": [
    {
     "data": {
      "image/png": "[encoded data removed]",
      "text/plain": [
       "<Figure size 432x288 with 1 Axes>"
      ]
     },
     "metadata": {},
     "output_type": "display_data"
    }
   ],
   "source": [
    "# create a precipitation box-and-whisker of each month\n",
    "column_names = [\"june\", \"december\"]\n",
    "prcp_df=pd.DataFrame(columns=column_names)\n",
    "prcp_df[\"june\"]= prcp_june_df[\"prcp\"]\n",
    "prcp_df[\"december\"]=prcp_dec_df[\"prcp\"]\n",
    "\n",
    "prcp_df.boxplot(column=[\"june\", \"december\"])\n",
    "plt.tight_layout()"
   ]
  },
  {
   "cell_type": "code",
   "execution_count": null,
   "metadata": {},
   "outputs": [],
   "source": [
    "# most key statistics low as expected, but there are a lot of outliers that could be investigated\n",
    "# get key statistics for each station and compare and compare number of outliers\n",
    "# get key statistics on outliers regarding timestamp (if possible) to understand if there's a pattern in the month/day/night\n",
    "# and if they tend to be close to each other in time (whoch could mean full day(s) of rain)"
   ]
  },
  {
   "cell_type": "code",
   "execution_count": 96,
   "metadata": {},
   "outputs": [
    {
     "data": {
      "image/png": "[encoded data removed]",
      "text/plain": [
       "<Figure size 432x288 with 1 Axes>"
      ]
     },
     "metadata": {},
     "output_type": "display_data"
    }
   ],
   "source": [
    "# we can already get the key statistics per month and per station\n",
    "# comparing each station's precipitaion June key statistics in a box-and-whisker plot\n",
    "prcp_june_USC00519281 = session.query(Measurement.date, Measurement.prcp).filter(extract('month',Measurement.date)==6)\\\n",
    "                                .filter(Measurement.station == 'USC00519281').all()\n",
    "prcp_june_USC00519281_df=pd.DataFrame(prcp_june_USC00519281)\n",
    "prcp_june_USC00519397 = session.query(Measurement.date, Measurement.prcp).filter(extract('month',Measurement.date)==6)\\\n",
    "                                .filter(Measurement.station == 'USC00519397').all()\n",
    "prcp_june_USC00519397_df=pd.DataFrame(prcp_june_USC00519397)\n",
    "prcp_june_USC00513117 = session.query(Measurement.date, Measurement.prcp).filter(extract('month',Measurement.date)==6)\\\n",
    "                                .filter(Measurement.station == 'USC00513117').all()\n",
    "prcp_june_USC00513117_df=pd.DataFrame(prcp_june_USC00513117)\n",
    "prcp_june_USC00519523 = session.query(Measurement.date, Measurement.prcp).filter(extract('month',Measurement.date)==6)\\\n",
    "                                .filter(Measurement.station == 'USC00519523').all()\n",
    "prcp_june_USC00519523_df=pd.DataFrame(prcp_june_USC00519523)\n",
    "prcp_june_USC00516128 = session.query(Measurement.date, Measurement.prcp).filter(extract('month',Measurement.date)==6)\\\n",
    "                                .filter(Measurement.station == 'USC00516128').all()\n",
    "prcp_june_USC00516128_df=pd.DataFrame(prcp_june_USC00516128)\n",
    "prcp_june_USC00514830 = session.query(Measurement.date, Measurement.prcp).filter(extract('month',Measurement.date)==6)\\\n",
    "                                .filter(Measurement.station == 'USC00514830').all()\n",
    "prcp_june_USC00514830_df=pd.DataFrame(prcp_june_USC00514830)\n",
    "prcp_june_USC00511918 = session.query(Measurement.date, Measurement.prcp).filter(extract('month',Measurement.date)==6)\\\n",
    "                                .filter(Measurement.station == 'USC00511918').all()\n",
    "prcp_june_USC00511918_df=pd.DataFrame(prcp_june_USC00511918)\n",
    "prcp_june_USC00517948 = session.query(Measurement.date, Measurement.prcp).filter(extract('month',Measurement.date)==6)\\\n",
    "                                .filter(Measurement.station == 'USC00517948').all()\n",
    "prcp_june_USC00517948_df=pd.DataFrame(prcp_june_USC00517948)\n",
    "prcp_june_USC00518838 = session.query(Measurement.date, Measurement.prcp).filter(extract('month',Measurement.date)==6)\\\n",
    "                                .filter(Measurement.station == 'USC00518838').all()\n",
    "prcp_june_USC00518838_df=pd.DataFrame(prcp_june_USC00518838)\n",
    "\n",
    "column_names = [\"USC00519281\", \"USC00519397\", \"USC00513117\", \"USC00519523\", \"USC00516128\", \"USC00514830\", \"USC00511918\", \"USC00517948\", \"USC00518838\"]\n",
    "prcp_june_stations=pd.DataFrame(columns=column_names)\n",
    "prcp_june_stations[\"USC00519281\"]= prcp_june_USC00519281_df[\"prcp\"]\n",
    "prcp_june_stations[\"USC00519397\"]= prcp_june_USC00519397_df[\"prcp\"]\n",
    "prcp_june_stations[\"USC00513117\"]= prcp_june_USC00513117_df[\"prcp\"]\n",
    "prcp_june_stations[\"USC00519523\"]= prcp_june_USC00519523_df[\"prcp\"]\n",
    "prcp_june_stations[\"USC00516128\"]= prcp_june_USC00516128_df[\"prcp\"]\n",
    "prcp_june_stations[\"USC00514830\"]= prcp_june_USC00514830_df[\"prcp\"]\n",
    "prcp_june_stations[\"USC00511918\"]= prcp_june_USC00511918_df[\"prcp\"]\n",
    "prcp_june_stations[\"USC00517948\"]= prcp_june_USC00517948_df[\"prcp\"]\n",
    "prcp_june_stations[\"USC00518838\"]= prcp_june_USC00518838_df[\"prcp\"]\n",
    "\n",
    "\n",
    "prcp_june_stations.boxplot(column=[\"USC00519281\", \"USC00519397\", \"USC00513117\", \"USC00519523\", \"USC00516128\", \"USC00514830\", \"USC00511918\", \"USC00517948\", \"USC00518838\"])\n",
    "plt.xticks(rotation='vertical')\n",
    "plt.tight_layout()"
   ]
  },
  {
   "cell_type": "code",
   "execution_count": 97,
   "metadata": {},
   "outputs": [
    {
     "data": {
      "image/png": "[encoded data removed]",
      "text/plain": [
       "<Figure size 432x288 with 1 Axes>"
      ]
     },
     "metadata": {},
     "output_type": "display_data"
    }
   ],
   "source": [
    "# comparing each station's precipitaion December key statistics in a box-and-whisker plot\n",
    "prcp_dec_USC00519281 = session.query(Measurement.date, Measurement.prcp).filter(extract('month',Measurement.date)==12)\\\n",
    "                                .filter(Measurement.station == 'USC00519281').all()\n",
    "prcp_dec_USC00519281_df=pd.DataFrame(prcp_dec_USC00519281)\n",
    "prcp_dec_USC00519397 = session.query(Measurement.date, Measurement.prcp).filter(extract('month',Measurement.date)==12)\\\n",
    "                                .filter(Measurement.station == 'USC00519397').all()\n",
    "prcp_dec_USC00519397_df=pd.DataFrame(prcp_dec_USC00519397)\n",
    "prcp_dec_USC00513117 = session.query(Measurement.date, Measurement.prcp).filter(extract('month',Measurement.date)==12)\\\n",
    "                                .filter(Measurement.station == 'USC00513117').all()\n",
    "prcp_dec_USC00513117_df=pd.DataFrame(prcp_dec_USC00513117)\n",
    "prcp_dec_USC00519523 = session.query(Measurement.date, Measurement.prcp).filter(extract('month',Measurement.date)==12)\\\n",
    "                                .filter(Measurement.station == 'USC00519523').all()\n",
    "prcp_dec_USC00519523_df=pd.DataFrame(prcp_dec_USC00519523)\n",
    "prcp_dec_USC00516128 = session.query(Measurement.date, Measurement.prcp).filter(extract('month',Measurement.date)==12)\\\n",
    "                                .filter(Measurement.station == 'USC00516128').all()\n",
    "prcp_dec_USC00516128_df=pd.DataFrame(prcp_dec_USC00516128)\n",
    "prcp_dec_USC00514830 = session.query(Measurement.date, Measurement.prcp).filter(extract('month',Measurement.date)==12)\\\n",
    "                                .filter(Measurement.station == 'USC00514830').all()\n",
    "prcp_dec_USC00514830_df=pd.DataFrame(prcp_dec_USC00514830)\n",
    "prcp_dec_USC00511918 = session.query(Measurement.date, Measurement.prcp).filter(extract('month',Measurement.date)==12)\\\n",
    "                                .filter(Measurement.station == 'USC00511918').all()\n",
    "prcp_dec_USC00511918_df=pd.DataFrame(prcp_dec_USC00511918)\n",
    "prcp_dec_USC00517948 = session.query(Measurement.date, Measurement.prcp).filter(extract('month',Measurement.date)==12)\\\n",
    "                                .filter(Measurement.station == 'USC00517948').all()\n",
    "prcp_dec_USC00517948_df=pd.DataFrame(prcp_dec_USC00517948)\n",
    "prcp_dec_USC00518838 = session.query(Measurement.date, Measurement.prcp).filter(extract('month',Measurement.date)==12)\\\n",
    "                                .filter(Measurement.station == 'USC00518838').all()\n",
    "prcp_dec_USC00518838_df=pd.DataFrame(prcp_dec_USC00518838)\n",
    "\n",
    "column_names = [\"USC00519281\", \"USC00519397\", \"USC00513117\", \"USC00519523\", \"USC00516128\", \"USC00514830\", \"USC00511918\", \"USC00517948\", \"USC00518838\"]\n",
    "prcp_dec_stations=pd.DataFrame(columns=column_names)\n",
    "prcp_dec_stations[\"USC00519281\"]= prcp_dec_USC00519281_df[\"prcp\"]\n",
    "prcp_dec_stations[\"USC00519397\"]= prcp_dec_USC00519397_df[\"prcp\"]\n",
    "prcp_dec_stations[\"USC00513117\"]= prcp_dec_USC00513117_df[\"prcp\"]\n",
    "prcp_dec_stations[\"USC00519523\"]= prcp_dec_USC00519523_df[\"prcp\"]\n",
    "prcp_dec_stations[\"USC00516128\"]= prcp_dec_USC00516128_df[\"prcp\"]\n",
    "prcp_dec_stations[\"USC00514830\"]= prcp_dec_USC00514830_df[\"prcp\"]\n",
    "prcp_dec_stations[\"USC00511918\"]= prcp_dec_USC00511918_df[\"prcp\"]\n",
    "prcp_dec_stations[\"USC00517948\"]= prcp_dec_USC00517948_df[\"prcp\"]\n",
    "prcp_dec_stations[\"USC00518838\"]= prcp_dec_USC00518838_df[\"prcp\"]\n",
    "\n",
    "\n",
    "prcp_dec_stations.boxplot(column=[\"USC00519281\", \"USC00519397\", \"USC00513117\", \"USC00519523\", \"USC00516128\", \"USC00514830\", \"USC00511918\", \"USC00517948\", \"USC00518838\"])\n",
    "plt.xticks(rotation='vertical')\n",
    "plt.tight_layout()"
   ]
  },
  {
   "cell_type": "code",
   "execution_count": null,
   "metadata": {},
   "outputs": [],
   "source": []
  }
 ],
 "metadata": {
  "kernelspec": {
   "display_name": "PythonData",
   "language": "python",
   "name": "pythondata"
  },
  "language_info": {
   "codemirror_mode": {
    "name": "ipython",
    "version": 3
   },
   "file_extension": ".py",
   "mimetype": "text/x-python",
   "name": "python",
   "nbconvert_exporter": "python",
   "pygments_lexer": "ipython3",
   "version": "3.7.6"
  }
 },
 "nbformat": 4,
 "nbformat_minor": 2
}
